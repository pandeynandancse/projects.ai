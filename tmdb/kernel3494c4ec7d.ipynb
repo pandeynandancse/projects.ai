{
  "nbformat": 4,
  "nbformat_minor": 0,
  "metadata": {
    "kernelspec": {
      "language": "python",
      "display_name": "Python 3",
      "name": "python3"
    },
    "language_info": {
      "pygments_lexer": "ipython3",
      "nbconvert_exporter": "python",
      "version": "3.6.4",
      "file_extension": ".py",
      "codemirror_mode": {
        "name": "ipython",
        "version": 3
      },
      "name": "python",
      "mimetype": "text/x-python"
    },
    "colab": {
      "name": "kernel3494c4ec7d.ipynb",
      "provenance": [],
      "collapsed_sections": []
    }
  },
  "cells": [
    {
      "cell_type": "code",
      "metadata": {
        "_uuid": "8f2839f25d086af736a60e9eeb907d3b93b6e0e5",
        "_cell_guid": "b1076dfc-b9ad-4769-8c92-a6c4dae69d19",
        "trusted": true,
        "id": "6WrLYVDhafo6",
        "colab_type": "code",
        "colab": {}
      },
      "source": [
        "# This Python 3 environment comes with many helpful analytics libraries installed\n",
        "# It is defined by the kaggle/python docker image: https://github.com/kaggle/docker-python\n",
        "# For example, here's several helpful packages to load in \n",
        "\n",
        "import numpy as np # linear algebra\n",
        "import pandas as pd # data processing, CSV file I/O (e.g. pd.read_csv)\n",
        "import matplotlib.pyplot as plt\n",
        "import requests\n",
        "# Input data files are available in the \"../input/\" directory.\n",
        "# For example, running this (by clicking run or pressing Shift+Enter) will list all files under the input directory\n",
        "\n",
        "import os\n",
        "for dirname, _, filenames in os.walk('/kaggle/input'):\n",
        "    for filename in filenames:\n",
        "        print(os.path.join(dirname, filename))\n",
        "\n",
        "# Any results you write to the current directory are saved as output."
      ],
      "execution_count": 0,
      "outputs": []
    },
    {
      "cell_type": "code",
      "metadata": {
        "_uuid": "d629ff2d2480ee46fbb7e2d37f6b5fab8052498a",
        "_cell_guid": "79c7e3d0-c299-4dcb-8224-4455121ee9b0",
        "trusted": true,
        "id": "Oq4mVPrLafpb",
        "colab_type": "code",
        "colab": {},
        "outputId": "a0ee55ac-441d-4a37-828a-ab0477550cc8"
      },
      "source": [
        "enter = 1\n",
        "cols = {}\n",
        "df.drop(df.index, inplace=True)\n",
        "while( enter ==1 ):\n",
        "    print(\" Enter release year to get movies : \\n\")\n",
        "    year = int(input())\n",
        "    response = requests.get('https://api.themoviedb.org/3/discover/movie?api_key=' + str(your api key) + '&primary_release_year=' + str(year) + '&sort_by=revenue.desc')\n",
        "    responded = response.json()\n",
        "    resp = responded['results']\n",
        "    title =[]\n",
        "    for i in resp:\n",
        "        title.append(i['title'])\n",
        "    cols['Title - ' + str(year)] = title\n",
        "    \n",
        "    print(\"Do you want to continue for some other year: \\n\")\n",
        "    print(\"Enter 1 for YES\\n\")\n",
        "    print(\"Enter 0 for No\\n\")\n",
        "    enter = int(input())\n",
        "df = pd.DataFrame(cols)\n",
        "enter2 = 1\n",
        "upcoming_list = []\n",
        "top_rated = []\n",
        "while( enter2 ==1 ):\n",
        "    \n",
        "    print(\"For Upcoming Movies Enter 1\\n\")\n",
        "    print(\"For Top Rated Movies Enter 2\\n\")\n",
        "    \n",
        "    choice2 = int(input())\n",
        "    \n",
        "    if(choice2 == 1):\n",
        "        response = requests.get('http://api.themoviedb.org/3/movie/upcoming?api_key=' + str(your api key))\n",
        "        upcomings = response.json()\n",
        "        movie_list = upcomings['results']\n",
        "        for movie in movie_list:\n",
        "            upcoming_list.append(movie['title'])\n",
        "    print(\"Enter 0 if you want to exit : \\n\")\n",
        "    enter2 = int(input())\n",
        "df['Upcoming Movies'] = upcoming_list\n",
        "df"
      ],
      "execution_count": 0,
      "outputs": [
        {
          "output_type": "stream",
          "text": [
            " Enter release year to get movies : \n",
            "\n",
            "2014\n",
            "Do you want to continue for some other year: \n",
            "\n",
            "Enter 1 for YES\n",
            "\n",
            "Enter 0 for No\n",
            "\n",
            "0\n",
            "For Upcoming Movies Enter 1\n",
            "\n",
            "For Top Rated Movies Enter 2\n",
            "\n",
            "1\n",
            "Enter 0 if you want to exit : \n",
            "\n",
            "0\n"
          ],
          "name": "stdout"
        },
        {
          "output_type": "execute_result",
          "data": {
            "text/plain": [
              "                                 Title - 2014  \\\n",
              "0             Transformers: Age of Extinction   \n",
              "1   The Hobbit: The Battle of the Five Armies   \n",
              "2                     Guardians of the Galaxy   \n",
              "3                                  Maleficent   \n",
              "4       The Hunger Games: Mockingjay - Part 1   \n",
              "5                  X-Men: Days of Future Past   \n",
              "6         Captain America: The Winter Soldier   \n",
              "7              Dawn of the Planet of the Apes   \n",
              "8                    The Amazing Spider-Man 2   \n",
              "9                                Interstellar   \n",
              "10                                 Big Hero 6   \n",
              "11                 How to Train Your Dragon 2   \n",
              "12                            American Sniper   \n",
              "13                                   Godzilla   \n",
              "14                                      Rio 2   \n",
              "15               Teenage Mutant Ninja Turtles   \n",
              "16                             The Lego Movie   \n",
              "17               Kingsman: The Secret Service   \n",
              "18                     Penguins of Madagascar   \n",
              "19                           Edge of Tomorrow   \n",
              "\n",
              "                              Upcoming Movies  \n",
              "0                                   Bloodshot  \n",
              "1                                      Onward  \n",
              "2                           Trolls World Tour  \n",
              "3                                  Just Mercy  \n",
              "4    Digimon Adventure: Last Evolution Kizuna  \n",
              "5                                    The Hunt  \n",
              "6                                      My Spy  \n",
              "7                                 The Turning  \n",
              "8                                The Way Back  \n",
              "9                             I Still Believe  \n",
              "10                                Guns Akimbo  \n",
              "11                                      Logan  \n",
              "12                               The Informer  \n",
              "13                                Dark Waters  \n",
              "14        A Beautiful Day in the Neighborhood  \n",
              "15                       Love The Way You Are  \n",
              "16                         Memories of Murder  \n",
              "17  Mortal Kombat Legends: Scorpion’s Revenge  \n",
              "18                                   #Iamhere  \n",
              "19                                    Harriet  "
            ],
            "text/html": [
              "<div>\n",
              "<style scoped>\n",
              "    .dataframe tbody tr th:only-of-type {\n",
              "        vertical-align: middle;\n",
              "    }\n",
              "\n",
              "    .dataframe tbody tr th {\n",
              "        vertical-align: top;\n",
              "    }\n",
              "\n",
              "    .dataframe thead th {\n",
              "        text-align: right;\n",
              "    }\n",
              "</style>\n",
              "<table border=\"1\" class=\"dataframe\">\n",
              "  <thead>\n",
              "    <tr style=\"text-align: right;\">\n",
              "      <th></th>\n",
              "      <th>Title - 2014</th>\n",
              "      <th>Upcoming Movies</th>\n",
              "    </tr>\n",
              "  </thead>\n",
              "  <tbody>\n",
              "    <tr>\n",
              "      <th>0</th>\n",
              "      <td>Transformers: Age of Extinction</td>\n",
              "      <td>Bloodshot</td>\n",
              "    </tr>\n",
              "    <tr>\n",
              "      <th>1</th>\n",
              "      <td>The Hobbit: The Battle of the Five Armies</td>\n",
              "      <td>Onward</td>\n",
              "    </tr>\n",
              "    <tr>\n",
              "      <th>2</th>\n",
              "      <td>Guardians of the Galaxy</td>\n",
              "      <td>Trolls World Tour</td>\n",
              "    </tr>\n",
              "    <tr>\n",
              "      <th>3</th>\n",
              "      <td>Maleficent</td>\n",
              "      <td>Just Mercy</td>\n",
              "    </tr>\n",
              "    <tr>\n",
              "      <th>4</th>\n",
              "      <td>The Hunger Games: Mockingjay - Part 1</td>\n",
              "      <td>Digimon Adventure: Last Evolution Kizuna</td>\n",
              "    </tr>\n",
              "    <tr>\n",
              "      <th>5</th>\n",
              "      <td>X-Men: Days of Future Past</td>\n",
              "      <td>The Hunt</td>\n",
              "    </tr>\n",
              "    <tr>\n",
              "      <th>6</th>\n",
              "      <td>Captain America: The Winter Soldier</td>\n",
              "      <td>My Spy</td>\n",
              "    </tr>\n",
              "    <tr>\n",
              "      <th>7</th>\n",
              "      <td>Dawn of the Planet of the Apes</td>\n",
              "      <td>The Turning</td>\n",
              "    </tr>\n",
              "    <tr>\n",
              "      <th>8</th>\n",
              "      <td>The Amazing Spider-Man 2</td>\n",
              "      <td>The Way Back</td>\n",
              "    </tr>\n",
              "    <tr>\n",
              "      <th>9</th>\n",
              "      <td>Interstellar</td>\n",
              "      <td>I Still Believe</td>\n",
              "    </tr>\n",
              "    <tr>\n",
              "      <th>10</th>\n",
              "      <td>Big Hero 6</td>\n",
              "      <td>Guns Akimbo</td>\n",
              "    </tr>\n",
              "    <tr>\n",
              "      <th>11</th>\n",
              "      <td>How to Train Your Dragon 2</td>\n",
              "      <td>Logan</td>\n",
              "    </tr>\n",
              "    <tr>\n",
              "      <th>12</th>\n",
              "      <td>American Sniper</td>\n",
              "      <td>The Informer</td>\n",
              "    </tr>\n",
              "    <tr>\n",
              "      <th>13</th>\n",
              "      <td>Godzilla</td>\n",
              "      <td>Dark Waters</td>\n",
              "    </tr>\n",
              "    <tr>\n",
              "      <th>14</th>\n",
              "      <td>Rio 2</td>\n",
              "      <td>A Beautiful Day in the Neighborhood</td>\n",
              "    </tr>\n",
              "    <tr>\n",
              "      <th>15</th>\n",
              "      <td>Teenage Mutant Ninja Turtles</td>\n",
              "      <td>Love The Way You Are</td>\n",
              "    </tr>\n",
              "    <tr>\n",
              "      <th>16</th>\n",
              "      <td>The Lego Movie</td>\n",
              "      <td>Memories of Murder</td>\n",
              "    </tr>\n",
              "    <tr>\n",
              "      <th>17</th>\n",
              "      <td>Kingsman: The Secret Service</td>\n",
              "      <td>Mortal Kombat Legends: Scorpion’s Revenge</td>\n",
              "    </tr>\n",
              "    <tr>\n",
              "      <th>18</th>\n",
              "      <td>Penguins of Madagascar</td>\n",
              "      <td>#Iamhere</td>\n",
              "    </tr>\n",
              "    <tr>\n",
              "      <th>19</th>\n",
              "      <td>Edge of Tomorrow</td>\n",
              "      <td>Harriet</td>\n",
              "    </tr>\n",
              "  </tbody>\n",
              "</table>\n",
              "</div>"
            ]
          },
          "metadata": {
            "tags": []
          },
          "execution_count": 33
        }
      ]
    },
    {
      "cell_type": "code",
      "metadata": {
        "trusted": true,
        "id": "byv6JNDaafp5",
        "colab_type": "code",
        "colab": {}
      },
      "source": [
        "import urllib.request\n",
        "from PIL import Image "
      ],
      "execution_count": 0,
      "outputs": []
    },
    {
      "cell_type": "code",
      "metadata": {
        "trusted": true,
        "id": "bN4Y25U2afqM",
        "colab_type": "code",
        "colab": {}
      },
      "source": [
        "url = 'https://image.tmdb.org/t/p/w185/or06FN3Dka5tukK1e9sl16pB3iy.jpg'"
      ],
      "execution_count": 0,
      "outputs": []
    },
    {
      "cell_type": "code",
      "metadata": {
        "trusted": true,
        "id": "7v5BsrxUafqc",
        "colab_type": "code",
        "colab": {}
      },
      "source": [
        "img = Image.open(urllib.request.urlopen(url))"
      ],
      "execution_count": 0,
      "outputs": []
    },
    {
      "cell_type": "code",
      "metadata": {
        "trusted": true,
        "id": "1W8YCxEgafqu",
        "colab_type": "code",
        "colab": {},
        "outputId": "a2c9ecd1-4b58-4d69-f6b6-c0a306a5c912"
      },
      "source": [
        "print(img)"
      ],
      "execution_count": 0,
      "outputs": [
        {
          "output_type": "stream",
          "text": [
            "<PIL.JpegImagePlugin.JpegImageFile image mode=RGB size=185x278 at 0x7F6334E1EE48>\n"
          ],
          "name": "stdout"
        }
      ]
    },
    {
      "cell_type": "code",
      "metadata": {
        "trusted": true,
        "id": "xg9EvjE_afq_",
        "colab_type": "code",
        "colab": {},
        "outputId": "7bb8c9de-ccf7-4f7c-bd9b-c9b230f1c631"
      },
      "source": [
        "img.height"
      ],
      "execution_count": 0,
      "outputs": [
        {
          "output_type": "execute_result",
          "data": {
            "text/plain": [
              "278"
            ]
          },
          "metadata": {
            "tags": []
          },
          "execution_count": 12
        }
      ]
    },
    {
      "cell_type": "code",
      "metadata": {
        "trusted": true,
        "id": "H_EZLbWdafrM",
        "colab_type": "code",
        "colab": {},
        "outputId": "d4bca8d3-363e-4a5e-dbba-c71f684ee72e"
      },
      "source": [
        "img.width"
      ],
      "execution_count": 0,
      "outputs": [
        {
          "output_type": "execute_result",
          "data": {
            "text/plain": [
              "185"
            ]
          },
          "metadata": {
            "tags": []
          },
          "execution_count": 13
        }
      ]
    },
    {
      "cell_type": "code",
      "metadata": {
        "trusted": true,
        "id": "HOgb7BF-afrY",
        "colab_type": "code",
        "colab": {}
      },
      "source": [
        ""
      ],
      "execution_count": 0,
      "outputs": []
    }
  ]
}